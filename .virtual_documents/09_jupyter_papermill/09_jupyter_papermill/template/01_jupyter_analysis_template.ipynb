


# Hard Code Workspace Directory
%cd -q "C:\Users\mrse1025\OneDrive\Desktop\ds4b_101p"


# Ignore Warnings



# Imports

# Allows us to make markdown programmatically


# Core Packages


# Formatters


# Custom Package



# Pull Data from Database




# Inspect Unique ID's
all_forecast_df['id'].unique()


# Filter columns to ones we want




# Add a Report Title Programmatically

title = "Forecast Report"

md(f"# {title}")


# Display the ID's in the set that will be part of the report







# Pivot Table Summary







# Plot Forecast





